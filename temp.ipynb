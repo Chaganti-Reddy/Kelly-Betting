{
 "cells": [
  {
   "cell_type": "code",
   "execution_count": null,
   "metadata": {
    "pycharm": {
     "name": "#%%\n",
     "is_executing": true
    }
   },
   "outputs": [],
   "source": [
    "import pandas as pd"
   ]
  },
  {
   "cell_type": "code",
   "execution_count": null,
   "metadata": {
    "pycharm": {
     "name": "#%%\n"
    }
   },
   "outputs": [],
   "source": [
    "data = pd.read_csv('model_prepped_dataset.csv')"
   ]
  },
  {
   "cell_type": "code",
   "execution_count": 3,
   "metadata": {
    "pycharm": {
     "name": "#%%\n"
    }
   },
   "outputs": [],
   "source": [
    "teams = data['Home_Team'].unique()\n",
    "seasons = data['Season'].unique()\n",
    "\n",
    "Home_Team_Ranking = [0 for i in range(len(data))]\n",
    "Away_Team_Ranking = [0 for i in range(len(data))]\n",
    "\n",
    "data['Home_Team_Points'] = Home_Team_Ranking\n",
    "data['Away_Team_Points'] = Away_Team_Ranking\n",
    "\n",
    "for season in seasons:  \n",
    "    team_points = dict(zip(teams, [0 for i in range(len(teams))]))\n",
    "    for team in teams:\n",
    "        temp_df = data[(data['Home_Team'] == team) & (data['Season'] == season)]\n",
    "        indexs = temp_df.index.tolist()\n",
    "        for i in range(len(indexs)):\n",
    "            if temp_df.at[indexs[i], 'Outcome'] == 1:\n",
    "                team_points[team] += 3\n",
    "                team_points[data.at[indexs[i], 'Away_Team']] += 0\n",
    "            elif temp_df.at[indexs[i], 'Outcome'] == 0:\n",
    "                team_points[team] += 1\n",
    "                team_points[data.at[indexs[i], 'Away_Team']] += 1\n",
    "            else:\n",
    "                team_points[team] += 0\n",
    "                team_points[data.at[indexs[i], 'Away_Team']] += 3\n",
    "            temp_df.at[indexs[i], 'Home_Team_Points'] = team_points[team]\n",
    "            temp_df.at[indexs[i], 'Away_Team_Points'] = team_points[data.at[indexs[i], 'Away_Team']]\n",
    "        data[(data['Home_Team'] == team) & (data['Season'] == season)] = temp_df"
   ]
  },
  {
   "cell_type": "code",
   "execution_count": 4,
   "metadata": {
    "pycharm": {
     "name": "#%%\n"
    }
   },
   "outputs": [],
   "source": [
    "data.to_csv('model_prepped_dataset_modified.csv', index=False)"
   ]
  },
  {
   "cell_type": "code",
   "execution_count": null,
   "metadata": {
    "pycharm": {
     "name": "#%%\n"
    }
   },
   "outputs": [],
   "source": []
  }
 ],
 "metadata": {
  "kernelspec": {
   "display_name": "Python 3.10.4 64-bit",
   "language": "python",
   "name": "python3"
  },
  "language_info": {
   "codemirror_mode": {
    "name": "ipython",
    "version": 3
   },
   "file_extension": ".py",
   "mimetype": "text/x-python",
   "name": "python",
   "nbconvert_exporter": "python",
   "pygments_lexer": "ipython3",
   "version": "3.10.4"
  },
  "orig_nbformat": 4,
  "vscode": {
   "interpreter": {
    "hash": "67f1a58412a5992903d8a569a5baa1f1514123756be715fd660b0e3603a8940d"
   }
  }
 },
 "nbformat": 4,
 "nbformat_minor": 2
}