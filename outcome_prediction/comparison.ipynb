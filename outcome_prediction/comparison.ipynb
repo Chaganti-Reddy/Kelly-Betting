{
 "cells": [
  {
   "cell_type": "code",
   "execution_count": 1,
   "metadata": {},
   "outputs": [],
   "source": [
    "import pandas as pd\n",
    "import numpy as np\n",
    "import pickle\n",
    "from sklearn.metrics import f1_score\n",
    "import matplotlib.pyplot as plt\n",
    "import seaborn as sns"
   ]
  },
  {
   "cell_type": "code",
   "execution_count": 2,
   "metadata": {},
   "outputs": [],
   "source": [
    "AdaBoost = pickle.load(open('AdaBoost.pkl', 'rb'))\n",
    "DecisionTree = pickle.load(open('DecisionTree.pkl', 'rb'))\n",
    "GaussianNB = pickle.load(open('GaussianNB.pkl', 'rb'))\n",
    "KNeighbours = pickle.load(open('KNeighbours.pkl', 'rb'))\n",
    "LogisticRegression = pickle.load(open('LogisticRegression.pkl', 'rb'))\n",
    "SVC = pickle.load(open('SVC.pkl', 'rb'))\n",
    "XGBClassifier = pickle.load(open('XGBClassifier.pkl', 'rb'))"
   ]
  },
  {
   "cell_type": "code",
   "execution_count": 3,
   "metadata": {},
   "outputs": [
    {
     "data": {
      "text/html": [
       "<div>\n",
       "<style scoped>\n",
       "    .dataframe tbody tr th:only-of-type {\n",
       "        vertical-align: middle;\n",
       "    }\n",
       "\n",
       "    .dataframe tbody tr th {\n",
       "        vertical-align: top;\n",
       "    }\n",
       "\n",
       "    .dataframe thead th {\n",
       "        text-align: right;\n",
       "    }\n",
       "</style>\n",
       "<table border=\"1\" class=\"dataframe\">\n",
       "  <thead>\n",
       "    <tr style=\"text-align: right;\">\n",
       "      <th></th>\n",
       "      <th>Home_Team</th>\n",
       "      <th>Away_Team</th>\n",
       "      <th>Home_ELO</th>\n",
       "      <th>Away_ELO</th>\n",
       "      <th>Last_5_Home_Team_avgGoal</th>\n",
       "      <th>Last_5_Away_Team_avgGoal</th>\n",
       "      <th>Last_5_Home_Team_Home_avgGoal</th>\n",
       "      <th>Last_5_Away_Team_Away_avgGoal</th>\n",
       "      <th>Last_5_Home_Team_All_Streak</th>\n",
       "      <th>Last_5_Away_Team_All_Streak</th>\n",
       "      <th>Last_5_Home_Team_Home_Streak</th>\n",
       "      <th>Last_5_Away_Team_Away_Streak</th>\n",
       "      <th>Last_3_same_team_home_goal</th>\n",
       "      <th>Last_3_same_team_away_goal</th>\n",
       "      <th>Last_3_same_team_outcome</th>\n",
       "      <th>Home_Team_Points</th>\n",
       "      <th>Away_Team_Points</th>\n",
       "      <th>Outcome</th>\n",
       "    </tr>\n",
       "  </thead>\n",
       "  <tbody>\n",
       "    <tr>\n",
       "      <th>0</th>\n",
       "      <td>West Bromwich Albion</td>\n",
       "      <td>Man. Utd</td>\n",
       "      <td>75</td>\n",
       "      <td>95</td>\n",
       "      <td>1.0</td>\n",
       "      <td>1.0</td>\n",
       "      <td>1.0</td>\n",
       "      <td>1.0</td>\n",
       "      <td>2.0</td>\n",
       "      <td>-1.0</td>\n",
       "      <td>1.0</td>\n",
       "      <td>0.0</td>\n",
       "      <td>0.000000</td>\n",
       "      <td>0.000000</td>\n",
       "      <td>0</td>\n",
       "      <td>13</td>\n",
       "      <td>7</td>\n",
       "      <td>-1</td>\n",
       "    </tr>\n",
       "    <tr>\n",
       "      <th>2</th>\n",
       "      <td>Chelsea</td>\n",
       "      <td>AFC Bournemouth</td>\n",
       "      <td>94</td>\n",
       "      <td>70</td>\n",
       "      <td>2.2</td>\n",
       "      <td>1.0</td>\n",
       "      <td>2.2</td>\n",
       "      <td>1.0</td>\n",
       "      <td>1.0</td>\n",
       "      <td>2.0</td>\n",
       "      <td>4.0</td>\n",
       "      <td>2.0</td>\n",
       "      <td>0.000000</td>\n",
       "      <td>0.000000</td>\n",
       "      <td>0</td>\n",
       "      <td>41</td>\n",
       "      <td>11</td>\n",
       "      <td>-1</td>\n",
       "    </tr>\n",
       "    <tr>\n",
       "      <th>4</th>\n",
       "      <td>Chelsea</td>\n",
       "      <td>Stoke City</td>\n",
       "      <td>96</td>\n",
       "      <td>78</td>\n",
       "      <td>2.8</td>\n",
       "      <td>1.4</td>\n",
       "      <td>2.8</td>\n",
       "      <td>1.4</td>\n",
       "      <td>3.0</td>\n",
       "      <td>2.0</td>\n",
       "      <td>4.0</td>\n",
       "      <td>1.0</td>\n",
       "      <td>0.000000</td>\n",
       "      <td>0.000000</td>\n",
       "      <td>0</td>\n",
       "      <td>68</td>\n",
       "      <td>42</td>\n",
       "      <td>1</td>\n",
       "    </tr>\n",
       "    <tr>\n",
       "      <th>5</th>\n",
       "      <td>Arsenal</td>\n",
       "      <td>Queens Park Rangers</td>\n",
       "      <td>93</td>\n",
       "      <td>66</td>\n",
       "      <td>1.8</td>\n",
       "      <td>0.4</td>\n",
       "      <td>1.8</td>\n",
       "      <td>0.4</td>\n",
       "      <td>2.0</td>\n",
       "      <td>5.0</td>\n",
       "      <td>1.0</td>\n",
       "      <td>5.0</td>\n",
       "      <td>0.000000</td>\n",
       "      <td>0.000000</td>\n",
       "      <td>0</td>\n",
       "      <td>15</td>\n",
       "      <td>0</td>\n",
       "      <td>1</td>\n",
       "    </tr>\n",
       "    <tr>\n",
       "      <th>6</th>\n",
       "      <td>Aston Villa</td>\n",
       "      <td>Crystal Palace</td>\n",
       "      <td>70</td>\n",
       "      <td>74</td>\n",
       "      <td>0.6</td>\n",
       "      <td>0.8</td>\n",
       "      <td>0.6</td>\n",
       "      <td>0.8</td>\n",
       "      <td>-2.0</td>\n",
       "      <td>-1.0</td>\n",
       "      <td>-4.0</td>\n",
       "      <td>1.0</td>\n",
       "      <td>0.333333</td>\n",
       "      <td>0.333333</td>\n",
       "      <td>0</td>\n",
       "      <td>27</td>\n",
       "      <td>9</td>\n",
       "      <td>1</td>\n",
       "    </tr>\n",
       "  </tbody>\n",
       "</table>\n",
       "</div>"
      ],
      "text/plain": [
       "              Home_Team            Away_Team  Home_ELO  Away_ELO  \\\n",
       "0  West Bromwich Albion             Man. Utd        75        95   \n",
       "2               Chelsea      AFC Bournemouth        94        70   \n",
       "4               Chelsea           Stoke City        96        78   \n",
       "5               Arsenal  Queens Park Rangers        93        66   \n",
       "6           Aston Villa       Crystal Palace        70        74   \n",
       "\n",
       "   Last_5_Home_Team_avgGoal  Last_5_Away_Team_avgGoal  \\\n",
       "0                       1.0                       1.0   \n",
       "2                       2.2                       1.0   \n",
       "4                       2.8                       1.4   \n",
       "5                       1.8                       0.4   \n",
       "6                       0.6                       0.8   \n",
       "\n",
       "   Last_5_Home_Team_Home_avgGoal  Last_5_Away_Team_Away_avgGoal  \\\n",
       "0                            1.0                            1.0   \n",
       "2                            2.2                            1.0   \n",
       "4                            2.8                            1.4   \n",
       "5                            1.8                            0.4   \n",
       "6                            0.6                            0.8   \n",
       "\n",
       "   Last_5_Home_Team_All_Streak  Last_5_Away_Team_All_Streak  \\\n",
       "0                          2.0                         -1.0   \n",
       "2                          1.0                          2.0   \n",
       "4                          3.0                          2.0   \n",
       "5                          2.0                          5.0   \n",
       "6                         -2.0                         -1.0   \n",
       "\n",
       "   Last_5_Home_Team_Home_Streak  Last_5_Away_Team_Away_Streak  \\\n",
       "0                           1.0                           0.0   \n",
       "2                           4.0                           2.0   \n",
       "4                           4.0                           1.0   \n",
       "5                           1.0                           5.0   \n",
       "6                          -4.0                           1.0   \n",
       "\n",
       "   Last_3_same_team_home_goal  Last_3_same_team_away_goal  \\\n",
       "0                    0.000000                    0.000000   \n",
       "2                    0.000000                    0.000000   \n",
       "4                    0.000000                    0.000000   \n",
       "5                    0.000000                    0.000000   \n",
       "6                    0.333333                    0.333333   \n",
       "\n",
       "   Last_3_same_team_outcome  Home_Team_Points  Away_Team_Points  Outcome  \n",
       "0                         0                13                 7       -1  \n",
       "2                         0                41                11       -1  \n",
       "4                         0                68                42        1  \n",
       "5                         0                15                 0        1  \n",
       "6                         0                27                 9        1  "
      ]
     },
     "execution_count": 3,
     "metadata": {},
     "output_type": "execute_result"
    }
   ],
   "source": [
    "data = pd.read_csv('test_data.csv').dropna()\n",
    "data.head()"
   ]
  },
  {
   "cell_type": "code",
   "execution_count": 4,
   "metadata": {},
   "outputs": [],
   "source": [
    "le = pickle.load(open('labelencoder.pkl', 'rb'))\n",
    "for i in data.columns:\n",
    "    if data[i].dtype == 'object':\n",
    "        data[i] = le.fit_transform(data[i])"
   ]
  },
  {
   "cell_type": "code",
   "execution_count": 5,
   "metadata": {},
   "outputs": [],
   "source": [
    "X = data.drop(columns=['Outcome'])\n",
    "y = data['Outcome']"
   ]
  },
  {
   "cell_type": "code",
   "execution_count": 6,
   "metadata": {},
   "outputs": [],
   "source": [
    "X = np.array(X)\n",
    "y = np.array(y)"
   ]
  },
  {
   "cell_type": "code",
   "execution_count": 7,
   "metadata": {},
   "outputs": [],
   "source": [
    "models = ['AdaBoost', 'DecisionTree', 'GaussianNB', 'KNeighbours', 'LogisticRegression', 'SVC', 'XGBClassifier']\n",
    "f1_scores = []\n",
    "for model in models:\n",
    "    if model == 'AdaBoost':\n",
    "        model = AdaBoost\n",
    "    elif model == 'DecisionTree':\n",
    "        model = DecisionTree\n",
    "    elif model == 'GaussianNB':\n",
    "        model = GaussianNB\n",
    "    elif model == 'KNeighbours':\n",
    "        model = KNeighbours\n",
    "    elif model == 'LogisticRegression':\n",
    "        model = LogisticRegression\n",
    "    elif model == 'SVC':\n",
    "        model = SVC\n",
    "    elif model == 'XGBClassifier':\n",
    "        model = XGBClassifier\n",
    "    pred_y = model.predict(X)\n",
    "    f1_scores.append(f1_score(y, pred_y, average='weighted'))"
   ]
  },
  {
   "cell_type": "code",
   "execution_count": 8,
   "metadata": {},
   "outputs": [
    {
     "data": {
      "image/png": "[encoded data removed]",
      "text/plain": [
       "<Figure size 720x432 with 1 Axes>"
      ]
     },
     "metadata": {
      "needs_background": "light"
     },
     "output_type": "display_data"
    }
   ],
   "source": [
    "plt.figure(figsize=(10, 6))\n",
    "plt.bar(models, f1_scores)\n",
    "sns.barplot(x=models, y=f1_scores)\n",
    "plt.title('F1 Score of each model')\n",
    "plt.xlabel('Models')\n",
    "plt.ylabel('F1 Score')\n",
    "plt.show()\n"
   ]
  },
  {
   "cell_type": "code",
   "execution_count": null,
   "metadata": {},
   "outputs": [],
   "source": []
  },
  {
   "cell_type": "code",
   "execution_count": 9,
   "metadata": {},
   "outputs": [],
   "source": [
    "accuracy = []\n",
    "for model in models:\n",
    "    if model == 'AdaBoost':\n",
    "        model = AdaBoost\n",
    "    elif model == 'DecisionTree':\n",
    "        model = DecisionTree\n",
    "    elif model == 'GaussianNB':\n",
    "        model = GaussianNB\n",
    "    elif model == 'KNeighbours':\n",
    "        model = KNeighbours\n",
    "    elif model == 'LogisticRegression':\n",
    "        model = LogisticRegression\n",
    "    elif model == 'SVC':\n",
    "        model = SVC\n",
    "    elif model == 'XGBClassifier':\n",
    "        model = XGBClassifier\n",
    "    pred_y = model.predict(X)\n",
    "    accuracy.append(np.mean(pred_y == y))"
   ]
  },
  {
   "cell_type": "code",
   "execution_count": 10,
   "metadata": {},
   "outputs": [
    {
     "data": {
      "image/png": "[encoded data removed]",
      "text/plain": [
       "<Figure size 720x432 with 1 Axes>"
      ]
     },
     "metadata": {
      "needs_background": "light"
     },
     "output_type": "display_data"
    }
   ],
   "source": [
    "plt.figure(figsize=(10, 6))\n",
    "plt.bar(models, accuracy)\n",
    "sns.barplot(x=models, y=accuracy)\n",
    "plt.title('Accuracy of each model')\n",
    "plt.xlabel('Models')\n",
    "plt.ylabel('Accuracy')\n",
    "plt.show()"
   ]
  },
  {
   "cell_type": "code",
   "execution_count": null,
   "metadata": {},
   "outputs": [],
   "source": []
  },
  {
   "cell_type": "code",
   "execution_count": 11,
   "metadata": {},
   "outputs": [],
   "source": [
    "y_pred_y_true = []\n",
    "for model in models:\n",
    "    if model == 'AdaBoost':\n",
    "        model = AdaBoost\n",
    "    elif model == 'DecisionTree':\n",
    "        model = DecisionTree\n",
    "    elif model == 'GaussianNB':\n",
    "        model = GaussianNB\n",
    "    elif model == 'KNeighbours':\n",
    "        model = KNeighbours\n",
    "    elif model == 'LogisticRegression':\n",
    "        model = LogisticRegression\n",
    "    elif model == 'SVC':\n",
    "        model = SVC\n",
    "    elif model == 'XGBClassifier':\n",
    "        model = XGBClassifier\n",
    "    pred_y = model.predict(X)\n",
    "    counts = 0\n",
    "    for i in range(len(pred_y)):\n",
    "        if pred_y[i] == y[i]:\n",
    "            counts += 1\n",
    "    y_pred_y_true.append(counts)"
   ]
  },
  {
   "cell_type": "code",
   "execution_count": 12,
   "metadata": {},
   "outputs": [
    {
     "data": {
      "image/png": "[encoded data removed]",
      "text/plain": [
       "<Figure size 720x432 with 1 Axes>"
      ]
     },
     "metadata": {
      "needs_background": "light"
     },
     "output_type": "display_data"
    }
   ],
   "source": [
    "plt.figure(figsize=(10, 6))\n",
    "plt.bar(models, y_pred_y_true)\n",
    "sns.barplot(x=models, y=y_pred_y_true)\n",
    "plt.title('y_pred == y_true')\n",
    "plt.xlabel('Models')\n",
    "plt.ylabel('Counts')\n",
    "plt.show()\n"
   ]
  }
 ],
 "metadata": {
  "kernelspec": {
   "display_name": "Python 3.10.4 64-bit",
   "language": "python",
   "name": "python3"
  },
  "language_info": {
   "codemirror_mode": {
    "name": "ipython",
    "version": 3
   },
   "file_extension": ".py",
   "mimetype": "text/x-python",
   "name": "python",
   "nbconvert_exporter": "python",
   "pygments_lexer": "ipython3",
   "version": "3.10.4"
  },
  "orig_nbformat": 4,
  "vscode": {
   "interpreter": {
    "hash": "67f1a58412a5992903d8a569a5baa1f1514123756be715fd660b0e3603a8940d"
   }
  }
 },
 "nbformat": 4,
 "nbformat_minor": 2
}
