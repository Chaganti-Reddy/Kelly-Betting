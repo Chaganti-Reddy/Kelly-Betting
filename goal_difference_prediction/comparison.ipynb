{
 "cells": [
  {
   "cell_type": "code",
   "execution_count": 13,
   "metadata": {},
   "outputs": [],
   "source": [
    "import pandas as pd\n",
    "import numpy as np\n",
    "import pickle\n",
    "from sklearn.metrics import f1_score\n",
    "from sklearn.metrics import accuracy_score\n",
    "import matplotlib.pyplot as plt\n",
    "import seaborn as sns"
   ]
  },
  {
   "cell_type": "code",
   "execution_count": 14,
   "metadata": {},
   "outputs": [],
   "source": [
    "AdaBoost = pickle.load(open('AdaBoost.pkl', 'rb'))\n",
    "DecisionTree = pickle.load(open('DecisionTree.pkl', 'rb'))\n",
    "GaussianNB = pickle.load(open('GaussianNB.pkl', 'rb'))\n",
    "KNeighbours = pickle.load(open('KNeighbors.pkl', 'rb'))\n",
    "SVC = pickle.load(open('SVC.pkl', 'rb'))\n",
    "RandomForest = pickle.load(open('RandomForest.pkl', 'rb'))\n",
    "XGBClassifier = pickle.load(open('XGBClassifier.pkl', 'rb'))"
   ]
  },
  {
   "cell_type": "code",
   "execution_count": 15,
   "metadata": {},
   "outputs": [
    {
     "data": {
      "text/html": [
       "<div>\n",
       "<style scoped>\n",
       "    .dataframe tbody tr th:only-of-type {\n",
       "        vertical-align: middle;\n",
       "    }\n",
       "\n",
       "    .dataframe tbody tr th {\n",
       "        vertical-align: top;\n",
       "    }\n",
       "\n",
       "    .dataframe thead th {\n",
       "        text-align: right;\n",
       "    }\n",
       "</style>\n",
       "<table border=\"1\" class=\"dataframe\">\n",
       "  <thead>\n",
       "    <tr style=\"text-align: right;\">\n",
       "      <th></th>\n",
       "      <th>Home_Team</th>\n",
       "      <th>Away_Team</th>\n",
       "      <th>Home_ELO</th>\n",
       "      <th>Away_ELO</th>\n",
       "      <th>Last_5_Home_Team_avgGoal</th>\n",
       "      <th>Last_5_Away_Team_avgGoal</th>\n",
       "      <th>Last_5_Home_Team_Home_avgGoal</th>\n",
       "      <th>Last_5_Away_Team_Away_avgGoal</th>\n",
       "      <th>Last_5_Home_Team_Home_avgGD</th>\n",
       "      <th>Last_5_Away_Team_Away_avgGD</th>\n",
       "      <th>Last_5_Home_Team_All_avgGD</th>\n",
       "      <th>Last_5_Away_Team_All_avgGD</th>\n",
       "      <th>Last_3_same_team_home_avgGD</th>\n",
       "      <th>Last_3_same_team_away_avgGD</th>\n",
       "      <th>Last_3_same_team_avgGD</th>\n",
       "      <th>Home_Team_Points</th>\n",
       "      <th>Away_Team_Points</th>\n",
       "      <th>Goal_Difference</th>\n",
       "    </tr>\n",
       "  </thead>\n",
       "  <tbody>\n",
       "    <tr>\n",
       "      <th>0</th>\n",
       "      <td>West Bromwich Albion</td>\n",
       "      <td>Man. Utd</td>\n",
       "      <td>75</td>\n",
       "      <td>95</td>\n",
       "      <td>0.8</td>\n",
       "      <td>1.0</td>\n",
       "      <td>1.0</td>\n",
       "      <td>1.0</td>\n",
       "      <td>0.2</td>\n",
       "      <td>0.0</td>\n",
       "      <td>0.8</td>\n",
       "      <td>-0.8</td>\n",
       "      <td>0.0</td>\n",
       "      <td>0.0</td>\n",
       "      <td>0.0</td>\n",
       "      <td>13</td>\n",
       "      <td>7</td>\n",
       "      <td>-3</td>\n",
       "    </tr>\n",
       "    <tr>\n",
       "      <th>2</th>\n",
       "      <td>Chelsea</td>\n",
       "      <td>AFC Bournemouth</td>\n",
       "      <td>94</td>\n",
       "      <td>70</td>\n",
       "      <td>2.6</td>\n",
       "      <td>2.0</td>\n",
       "      <td>2.2</td>\n",
       "      <td>1.0</td>\n",
       "      <td>2.0</td>\n",
       "      <td>1.0</td>\n",
       "      <td>0.6</td>\n",
       "      <td>0.4</td>\n",
       "      <td>0.0</td>\n",
       "      <td>0.0</td>\n",
       "      <td>0.0</td>\n",
       "      <td>41</td>\n",
       "      <td>11</td>\n",
       "      <td>-3</td>\n",
       "    </tr>\n",
       "    <tr>\n",
       "      <th>4</th>\n",
       "      <td>Chelsea</td>\n",
       "      <td>Stoke City</td>\n",
       "      <td>96</td>\n",
       "      <td>78</td>\n",
       "      <td>2.6</td>\n",
       "      <td>2.0</td>\n",
       "      <td>2.8</td>\n",
       "      <td>1.4</td>\n",
       "      <td>2.8</td>\n",
       "      <td>-0.2</td>\n",
       "      <td>2.0</td>\n",
       "      <td>0.2</td>\n",
       "      <td>0.0</td>\n",
       "      <td>0.0</td>\n",
       "      <td>0.0</td>\n",
       "      <td>68</td>\n",
       "      <td>42</td>\n",
       "      <td>3</td>\n",
       "    </tr>\n",
       "    <tr>\n",
       "      <th>5</th>\n",
       "      <td>Arsenal</td>\n",
       "      <td>Queens Park Rangers</td>\n",
       "      <td>93</td>\n",
       "      <td>66</td>\n",
       "      <td>2.0</td>\n",
       "      <td>1.8</td>\n",
       "      <td>1.8</td>\n",
       "      <td>0.4</td>\n",
       "      <td>0.6</td>\n",
       "      <td>1.6</td>\n",
       "      <td>0.8</td>\n",
       "      <td>1.6</td>\n",
       "      <td>0.0</td>\n",
       "      <td>0.0</td>\n",
       "      <td>0.0</td>\n",
       "      <td>15</td>\n",
       "      <td>0</td>\n",
       "      <td>1</td>\n",
       "    </tr>\n",
       "    <tr>\n",
       "      <th>6</th>\n",
       "      <td>Aston Villa</td>\n",
       "      <td>Crystal Palace</td>\n",
       "      <td>70</td>\n",
       "      <td>74</td>\n",
       "      <td>0.4</td>\n",
       "      <td>0.8</td>\n",
       "      <td>0.6</td>\n",
       "      <td>0.8</td>\n",
       "      <td>-1.2</td>\n",
       "      <td>1.2</td>\n",
       "      <td>-0.6</td>\n",
       "      <td>0.6</td>\n",
       "      <td>0.0</td>\n",
       "      <td>0.0</td>\n",
       "      <td>1.0</td>\n",
       "      <td>27</td>\n",
       "      <td>9</td>\n",
       "      <td>2</td>\n",
       "    </tr>\n",
       "  </tbody>\n",
       "</table>\n",
       "</div>"
      ],
      "text/plain": [
       "              Home_Team            Away_Team  Home_ELO  Away_ELO  \\\n",
       "0  West Bromwich Albion             Man. Utd        75        95   \n",
       "2               Chelsea      AFC Bournemouth        94        70   \n",
       "4               Chelsea           Stoke City        96        78   \n",
       "5               Arsenal  Queens Park Rangers        93        66   \n",
       "6           Aston Villa       Crystal Palace        70        74   \n",
       "\n",
       "   Last_5_Home_Team_avgGoal  Last_5_Away_Team_avgGoal  \\\n",
       "0                       0.8                       1.0   \n",
       "2                       2.6                       2.0   \n",
       "4                       2.6                       2.0   \n",
       "5                       2.0                       1.8   \n",
       "6                       0.4                       0.8   \n",
       "\n",
       "   Last_5_Home_Team_Home_avgGoal  Last_5_Away_Team_Away_avgGoal  \\\n",
       "0                            1.0                            1.0   \n",
       "2                            2.2                            1.0   \n",
       "4                            2.8                            1.4   \n",
       "5                            1.8                            0.4   \n",
       "6                            0.6                            0.8   \n",
       "\n",
       "   Last_5_Home_Team_Home_avgGD  Last_5_Away_Team_Away_avgGD  \\\n",
       "0                          0.2                          0.0   \n",
       "2                          2.0                          1.0   \n",
       "4                          2.8                         -0.2   \n",
       "5                          0.6                          1.6   \n",
       "6                         -1.2                          1.2   \n",
       "\n",
       "   Last_5_Home_Team_All_avgGD  Last_5_Away_Team_All_avgGD  \\\n",
       "0                         0.8                        -0.8   \n",
       "2                         0.6                         0.4   \n",
       "4                         2.0                         0.2   \n",
       "5                         0.8                         1.6   \n",
       "6                        -0.6                         0.6   \n",
       "\n",
       "   Last_3_same_team_home_avgGD  Last_3_same_team_away_avgGD  \\\n",
       "0                          0.0                          0.0   \n",
       "2                          0.0                          0.0   \n",
       "4                          0.0                          0.0   \n",
       "5                          0.0                          0.0   \n",
       "6                          0.0                          0.0   \n",
       "\n",
       "   Last_3_same_team_avgGD  Home_Team_Points  Away_Team_Points  Goal_Difference  \n",
       "0                     0.0                13                 7               -3  \n",
       "2                     0.0                41                11               -3  \n",
       "4                     0.0                68                42                3  \n",
       "5                     0.0                15                 0                1  \n",
       "6                     1.0                27                 9                2  "
      ]
     },
     "execution_count": 15,
     "metadata": {},
     "output_type": "execute_result"
    }
   ],
   "source": [
    "data = pd.read_csv('test_data.csv').dropna()\n",
    "data = data[(data['Goal_Difference'] >= -3) & (data['Goal_Difference'] <= 5)]\n",
    "data.head()"
   ]
  },
  {
   "cell_type": "code",
   "execution_count": 16,
   "metadata": {},
   "outputs": [],
   "source": [
    "le = pickle.load(open('labelencoder.pkl', 'rb'))\n",
    "for i in data.columns:\n",
    "    if data[i].dtype == 'object':\n",
    "        data[i] = le.fit_transform(data[i])"
   ]
  },
  {
   "cell_type": "code",
   "execution_count": 17,
   "metadata": {},
   "outputs": [],
   "source": [
    "X = data.drop(columns=['Goal_Difference'])\n",
    "y = data['Goal_Difference']"
   ]
  },
  {
   "cell_type": "code",
   "execution_count": 18,
   "metadata": {},
   "outputs": [],
   "source": [
    "X = np.array(X)\n",
    "y = np.array(y)"
   ]
  },
  {
   "cell_type": "code",
   "execution_count": 19,
   "metadata": {},
   "outputs": [],
   "source": [
    "models = ['AdaBoost', 'DecisionTree', 'GaussianNB', 'KNeighbours', 'RandomForest', 'SVC', 'XGBClassifier']\n",
    "f1_scores = []\n",
    "for model in models:\n",
    "    if model == 'AdaBoost':\n",
    "        model = AdaBoost\n",
    "    elif model == 'DecisionTree':\n",
    "        model = DecisionTree\n",
    "    elif model == 'GaussianNB':\n",
    "        model = GaussianNB\n",
    "    elif model == 'KNeighbours':\n",
    "        model = KNeighbours\n",
    "    elif model == 'RandomForest':\n",
    "        model = RandomForest\n",
    "    elif model == 'SVC':\n",
    "        model = SVC\n",
    "    elif model == 'XGBClassifier':\n",
    "        model = XGBClassifier\n",
    "    y_pred = model.predict(X)\n",
    "    f1_scores.append(f1_score(y, y_pred, average='weighted'))"
   ]
  },
  {
   "cell_type": "code",
   "execution_count": 20,
   "metadata": {},
   "outputs": [
    {
     "data": {
      "image/png": "[encoded data removed]",
      "text/plain": [
       "<Figure size 1080x576 with 1 Axes>"
      ]
     },
     "metadata": {
      "needs_background": "light"
     },
     "output_type": "display_data"
    }
   ],
   "source": [
    "plt.figure(figsize=(15, 8))\n",
    "plt.bar(models, f1_scores)\n",
    "sns.barplot(x=models, y=f1_scores)\n",
    "plt.title('F1 Score of each model')\n",
    "plt.xlabel('Models')\n",
    "plt.ylabel('F1 Score')\n",
    "plt.show()\n"
   ]
  },
  {
   "cell_type": "code",
   "execution_count": 21,
   "metadata": {},
   "outputs": [],
   "source": [
    "accuracy = []\n",
    "for model in models:\n",
    "    if model == 'AdaBoost':\n",
    "        model = AdaBoost\n",
    "    elif model == 'DecisionTree':\n",
    "        model = DecisionTree\n",
    "    elif model == 'GaussianNB':\n",
    "        model = GaussianNB\n",
    "    elif model == 'KNeighbours':\n",
    "        model = KNeighbours\n",
    "    elif model == 'RandomForest':\n",
    "        model = RandomForest\n",
    "    elif model == 'SVC':\n",
    "        model = SVC\n",
    "    elif model == 'XGBClassifier':\n",
    "        model = XGBClassifier\n",
    "    pred_y = model.predict(X)\n",
    "    accuracy.append(accuracy_score(y, pred_y))"
   ]
  },
  {
   "cell_type": "code",
   "execution_count": 22,
   "metadata": {},
   "outputs": [
    {
     "data": {
      "image/png": "[encoded data removed]",
      "text/plain": [
       "<Figure size 1080x576 with 1 Axes>"
      ]
     },
     "metadata": {
      "needs_background": "light"
     },
     "output_type": "display_data"
    }
   ],
   "source": [
    "plt.figure(figsize=(15, 8))\n",
    "plt.bar(models, accuracy)\n",
    "sns.barplot(x=models, y=accuracy)\n",
    "plt.title('Accuracy of each model')\n",
    "plt.xlabel('Models')\n",
    "plt.ylabel('Accuracy')\n",
    "plt.show()"
   ]
  },
  {
   "cell_type": "code",
   "execution_count": null,
   "metadata": {},
   "outputs": [],
   "source": []
  },
  {
   "cell_type": "code",
   "execution_count": 23,
   "metadata": {},
   "outputs": [],
   "source": [
    "y_actual_y_pred = []\n",
    "\n",
    "for model in models:\n",
    "    if model == 'AdaBoost':\n",
    "        model = AdaBoost\n",
    "    elif model == 'DecisionTree':\n",
    "        model = DecisionTree\n",
    "    elif model == 'GaussianNB':\n",
    "        model = GaussianNB\n",
    "    elif model == 'KNeighbours':\n",
    "        model = KNeighbours\n",
    "    elif model == 'RandomForest':\n",
    "        model = RandomForest\n",
    "    elif model == 'SVC':\n",
    "        model = SVC\n",
    "    elif model == 'XGBClassifier':\n",
    "        model = XGBClassifier\n",
    "    pred_y = model.predict(X)\n",
    "    count = 0\n",
    "    for i in range(len(pred_y)):\n",
    "        if pred_y[i] == y[i]:\n",
    "            count += 1\n",
    "    y_actual_y_pred.append(count)\n",
    "    "
   ]
  },
  {
   "cell_type": "code",
   "execution_count": 24,
   "metadata": {},
   "outputs": [
    {
     "data": {
      "image/png": "[encoded data removed]",
      "text/plain": [
       "<Figure size 1080x576 with 1 Axes>"
      ]
     },
     "metadata": {
      "needs_background": "light"
     },
     "output_type": "display_data"
    }
   ],
   "source": [
    "plt.figure(figsize=(15, 8))\n",
    "sns.barplot(x=models, y=y_actual_y_pred)\n",
    "plt.title('y_pred == y_actual')\n",
    "plt.xlabel('Models')\n",
    "plt.ylabel('Count')\n",
    "plt.show()"
   ]
  },
  {
   "cell_type": "code",
   "execution_count": null,
   "metadata": {},
   "outputs": [],
   "source": []
  },
  {
   "cell_type": "code",
   "execution_count": null,
   "metadata": {},
   "outputs": [],
   "source": []
  }
 ],
 "metadata": {
  "kernelspec": {
   "display_name": "Python 3.10.4 64-bit",
   "language": "python",
   "name": "python3"
  },
  "language_info": {
   "codemirror_mode": {
    "name": "ipython",
    "version": 3
   },
   "file_extension": ".py",
   "mimetype": "text/x-python",
   "name": "python",
   "nbconvert_exporter": "python",
   "pygments_lexer": "ipython3",
   "version": "3.10.4"
  },
  "orig_nbformat": 4,
  "vscode": {
   "interpreter": {
    "hash": "67f1a58412a5992903d8a569a5baa1f1514123756be715fd660b0e3603a8940d"
   }
  }
 },
 "nbformat": 4,
 "nbformat_minor": 2
}
