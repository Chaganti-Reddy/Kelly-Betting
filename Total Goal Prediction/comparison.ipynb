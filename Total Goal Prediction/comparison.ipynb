{
 "cells": [
  {
   "cell_type": "code",
   "execution_count": 1,
   "metadata": {},
   "outputs": [],
   "source": [
    "import pandas as pd\n",
    "import numpy as np\n",
    "import pickle\n",
    "from sklearn.metrics import f1_score\n",
    "from sklearn.metrics import accuracy_score\n",
    "import matplotlib.pyplot as plt\n",
    "import seaborn as sns"
   ]
  },
  {
   "cell_type": "code",
   "execution_count": 2,
   "metadata": {},
   "outputs": [
    {
     "data": {
      "text/html": [
       "<div>\n",
       "<style scoped>\n",
       "    .dataframe tbody tr th:only-of-type {\n",
       "        vertical-align: middle;\n",
       "    }\n",
       "\n",
       "    .dataframe tbody tr th {\n",
       "        vertical-align: top;\n",
       "    }\n",
       "\n",
       "    .dataframe thead th {\n",
       "        text-align: right;\n",
       "    }\n",
       "</style>\n",
       "<table border=\"1\" class=\"dataframe\">\n",
       "  <thead>\n",
       "    <tr style=\"text-align: right;\">\n",
       "      <th></th>\n",
       "      <th>Home_Team</th>\n",
       "      <th>Away_Team</th>\n",
       "      <th>Home_ELO</th>\n",
       "      <th>Away_ELO</th>\n",
       "      <th>Last_5_Home_Team_avgGoal</th>\n",
       "      <th>Last_5_Away_Team_avgGoal</th>\n",
       "      <th>Last_5_Home_Team_Home_avgGoal</th>\n",
       "      <th>Last_5_Away_Team_Away_avgGoal</th>\n",
       "      <th>Last_5_Home_Team_All_Streak</th>\n",
       "      <th>Last_5_Away_Team_All_Streak</th>\n",
       "      <th>Last_5_Home_Team_Home_Streak</th>\n",
       "      <th>Last_5_Away_Team_Away_Streak</th>\n",
       "      <th>Last_3_same_team_home_goal</th>\n",
       "      <th>Last_3_same_team_away_goal</th>\n",
       "      <th>Last_3_same_team_outcome</th>\n",
       "      <th>Home_Team_Points</th>\n",
       "      <th>Away_Team_Points</th>\n",
       "      <th>Home_Team_Goal</th>\n",
       "      <th>Away_Team_Goal</th>\n",
       "    </tr>\n",
       "  </thead>\n",
       "  <tbody>\n",
       "    <tr>\n",
       "      <th>0</th>\n",
       "      <td>West Bromwich Albion</td>\n",
       "      <td>Man. Utd</td>\n",
       "      <td>75</td>\n",
       "      <td>95</td>\n",
       "      <td>1.0</td>\n",
       "      <td>1.0</td>\n",
       "      <td>1.0</td>\n",
       "      <td>1.0</td>\n",
       "      <td>2.0</td>\n",
       "      <td>-1.0</td>\n",
       "      <td>1.0</td>\n",
       "      <td>0.0</td>\n",
       "      <td>0.000000</td>\n",
       "      <td>0.000000</td>\n",
       "      <td>0</td>\n",
       "      <td>13</td>\n",
       "      <td>7</td>\n",
       "      <td>0</td>\n",
       "      <td>3</td>\n",
       "    </tr>\n",
       "    <tr>\n",
       "      <th>2</th>\n",
       "      <td>Chelsea</td>\n",
       "      <td>AFC Bournemouth</td>\n",
       "      <td>94</td>\n",
       "      <td>70</td>\n",
       "      <td>2.2</td>\n",
       "      <td>1.0</td>\n",
       "      <td>2.2</td>\n",
       "      <td>1.0</td>\n",
       "      <td>1.0</td>\n",
       "      <td>2.0</td>\n",
       "      <td>4.0</td>\n",
       "      <td>2.0</td>\n",
       "      <td>0.000000</td>\n",
       "      <td>0.000000</td>\n",
       "      <td>0</td>\n",
       "      <td>41</td>\n",
       "      <td>11</td>\n",
       "      <td>0</td>\n",
       "      <td>3</td>\n",
       "    </tr>\n",
       "    <tr>\n",
       "      <th>4</th>\n",
       "      <td>Chelsea</td>\n",
       "      <td>Stoke City</td>\n",
       "      <td>96</td>\n",
       "      <td>78</td>\n",
       "      <td>2.8</td>\n",
       "      <td>1.4</td>\n",
       "      <td>2.8</td>\n",
       "      <td>1.4</td>\n",
       "      <td>3.0</td>\n",
       "      <td>2.0</td>\n",
       "      <td>4.0</td>\n",
       "      <td>1.0</td>\n",
       "      <td>0.000000</td>\n",
       "      <td>0.000000</td>\n",
       "      <td>0</td>\n",
       "      <td>68</td>\n",
       "      <td>42</td>\n",
       "      <td>3</td>\n",
       "      <td>0</td>\n",
       "    </tr>\n",
       "    <tr>\n",
       "      <th>5</th>\n",
       "      <td>Arsenal</td>\n",
       "      <td>Queens Park Rangers</td>\n",
       "      <td>93</td>\n",
       "      <td>66</td>\n",
       "      <td>1.8</td>\n",
       "      <td>0.4</td>\n",
       "      <td>1.8</td>\n",
       "      <td>0.4</td>\n",
       "      <td>2.0</td>\n",
       "      <td>5.0</td>\n",
       "      <td>1.0</td>\n",
       "      <td>5.0</td>\n",
       "      <td>0.000000</td>\n",
       "      <td>0.000000</td>\n",
       "      <td>0</td>\n",
       "      <td>15</td>\n",
       "      <td>0</td>\n",
       "      <td>2</td>\n",
       "      <td>1</td>\n",
       "    </tr>\n",
       "    <tr>\n",
       "      <th>6</th>\n",
       "      <td>Aston Villa</td>\n",
       "      <td>Crystal Palace</td>\n",
       "      <td>70</td>\n",
       "      <td>74</td>\n",
       "      <td>0.6</td>\n",
       "      <td>0.8</td>\n",
       "      <td>0.6</td>\n",
       "      <td>0.8</td>\n",
       "      <td>-2.0</td>\n",
       "      <td>-1.0</td>\n",
       "      <td>-4.0</td>\n",
       "      <td>1.0</td>\n",
       "      <td>0.333333</td>\n",
       "      <td>0.333333</td>\n",
       "      <td>0</td>\n",
       "      <td>27</td>\n",
       "      <td>9</td>\n",
       "      <td>2</td>\n",
       "      <td>0</td>\n",
       "    </tr>\n",
       "  </tbody>\n",
       "</table>\n",
       "</div>"
      ],
      "text/plain": [
       "              Home_Team            Away_Team  Home_ELO  Away_ELO  \\\n",
       "0  West Bromwich Albion             Man. Utd        75        95   \n",
       "2               Chelsea      AFC Bournemouth        94        70   \n",
       "4               Chelsea           Stoke City        96        78   \n",
       "5               Arsenal  Queens Park Rangers        93        66   \n",
       "6           Aston Villa       Crystal Palace        70        74   \n",
       "\n",
       "   Last_5_Home_Team_avgGoal  Last_5_Away_Team_avgGoal  \\\n",
       "0                       1.0                       1.0   \n",
       "2                       2.2                       1.0   \n",
       "4                       2.8                       1.4   \n",
       "5                       1.8                       0.4   \n",
       "6                       0.6                       0.8   \n",
       "\n",
       "   Last_5_Home_Team_Home_avgGoal  Last_5_Away_Team_Away_avgGoal  \\\n",
       "0                            1.0                            1.0   \n",
       "2                            2.2                            1.0   \n",
       "4                            2.8                            1.4   \n",
       "5                            1.8                            0.4   \n",
       "6                            0.6                            0.8   \n",
       "\n",
       "   Last_5_Home_Team_All_Streak  Last_5_Away_Team_All_Streak  \\\n",
       "0                          2.0                         -1.0   \n",
       "2                          1.0                          2.0   \n",
       "4                          3.0                          2.0   \n",
       "5                          2.0                          5.0   \n",
       "6                         -2.0                         -1.0   \n",
       "\n",
       "   Last_5_Home_Team_Home_Streak  Last_5_Away_Team_Away_Streak  \\\n",
       "0                           1.0                           0.0   \n",
       "2                           4.0                           2.0   \n",
       "4                           4.0                           1.0   \n",
       "5                           1.0                           5.0   \n",
       "6                          -4.0                           1.0   \n",
       "\n",
       "   Last_3_same_team_home_goal  Last_3_same_team_away_goal  \\\n",
       "0                    0.000000                    0.000000   \n",
       "2                    0.000000                    0.000000   \n",
       "4                    0.000000                    0.000000   \n",
       "5                    0.000000                    0.000000   \n",
       "6                    0.333333                    0.333333   \n",
       "\n",
       "   Last_3_same_team_outcome  Home_Team_Points  Away_Team_Points  \\\n",
       "0                         0                13                 7   \n",
       "2                         0                41                11   \n",
       "4                         0                68                42   \n",
       "5                         0                15                 0   \n",
       "6                         0                27                 9   \n",
       "\n",
       "   Home_Team_Goal  Away_Team_Goal  \n",
       "0               0               3  \n",
       "2               0               3  \n",
       "4               3               0  \n",
       "5               2               1  \n",
       "6               2               0  "
      ]
     },
     "execution_count": 2,
     "metadata": {},
     "output_type": "execute_result"
    }
   ],
   "source": [
    "data = pd.read_csv('test_data.csv').dropna()\n",
    "data = data[(data['Home_Team_Goal'] <= 5) & (data['Away_Team_Goal'] <= 5)]\n",
    "data.head()"
   ]
  },
  {
   "cell_type": "code",
   "execution_count": 3,
   "metadata": {},
   "outputs": [],
   "source": [
    "le = pickle.load(open('labelencoder.pkl', 'rb'))\n",
    "for i in data.columns:\n",
    "    if data[i].dtype == 'object':\n",
    "        data[i] = le.fit_transform(data[i])"
   ]
  },
  {
   "cell_type": "code",
   "execution_count": 4,
   "metadata": {},
   "outputs": [],
   "source": [
    "X = data.drop(columns=['Home_Team_Goal', 'Away_Team_Goal'])\n",
    "y1 = data['Home_Team_Goal']\n",
    "y2 = data['Away_Team_Goal']"
   ]
  },
  {
   "cell_type": "code",
   "execution_count": 5,
   "metadata": {},
   "outputs": [],
   "source": [
    "X = np.array(X)\n",
    "y1 = np.array(y1)\n",
    "y2 = np.array(y2)"
   ]
  },
  {
   "cell_type": "markdown",
   "metadata": {},
   "source": [
    "## Home Team Goals"
   ]
  },
  {
   "cell_type": "code",
   "execution_count": 6,
   "metadata": {},
   "outputs": [],
   "source": [
    "AdaBoost_Home = pickle.load(open('AdaBoost_Home.pkl', 'rb'))\n",
    "DecisionTree_Home = pickle.load(open('DecisionTree_Home.pkl', 'rb'))\n",
    "GaussianNB_Home = pickle.load(open('GaussianNB_Home.pkl', 'rb'))\n",
    "KNeighbors_Home = pickle.load(open('KNeighbors_Home.pkl', 'rb'))\n",
    "LogisticRegression_Home = pickle.load(open('LogisticRegression_Home.pkl', 'rb'))\n",
    "RandomForest_Home = pickle.load(open('RandomForest_Home.pkl', 'rb'))\n",
    "SVC_Home = pickle.load(open('SVC_Home.pkl', 'rb'))\n",
    "XGBClassifier_Home = pickle.load(open('XGBClassifier_Home.pkl', 'rb'))"
   ]
  },
  {
   "cell_type": "code",
   "execution_count": 7,
   "metadata": {},
   "outputs": [],
   "source": [
    "models = ['AdaBoost', 'DecisionTree', 'GaussianNB', 'KNeighbours', 'LogisticRegression', 'RandomForest', 'SVC', 'XGBClassifier']\n",
    "f1_scores = []\n",
    "for model in models:\n",
    "    if model == 'AdaBoost':\n",
    "        model = AdaBoost_Home\n",
    "    elif model == 'DecisionTree':\n",
    "        model = DecisionTree_Home\n",
    "    elif model == 'GaussianNB':\n",
    "        model = GaussianNB_Home\n",
    "    elif model == 'KNeighbours':\n",
    "        model = KNeighbors_Home\n",
    "    elif model == 'LogisticRegression':\n",
    "        model = LogisticRegression_Home\n",
    "    elif model == 'RandomForest':\n",
    "        model = RandomForest_Home\n",
    "    elif model == 'SVC':\n",
    "        model = SVC_Home\n",
    "    elif model == 'XGBClassifier':\n",
    "        model = XGBClassifier_Home\n",
    "    y_pred = model.predict(X)\n",
    "    f1_scores.append(f1_score(y1, y_pred, average='weighted'))"
   ]
  },
  {
   "cell_type": "code",
   "execution_count": 8,
   "metadata": {},
   "outputs": [
    {
     "data": {
      "image/png": "[encoded data removed]",
      "text/plain": [
       "<Figure size 1080x576 with 1 Axes>"
      ]
     },
     "metadata": {
      "needs_background": "light"
     },
     "output_type": "display_data"
    }
   ],
   "source": [
    "plt.figure(figsize=(15, 8))\n",
    "plt.bar(models, f1_scores)\n",
    "sns.barplot(x=models, y=f1_scores)\n",
    "plt.title('F1 Score of each model (Home Team)')\n",
    "plt.xlabel('Models')\n",
    "plt.ylabel('F1 Score')\n",
    "plt.show()\n"
   ]
  },
  {
   "cell_type": "code",
   "execution_count": 9,
   "metadata": {},
   "outputs": [],
   "source": [
    "accuracy = []\n",
    "for model in models:\n",
    "    if model == 'AdaBoost':\n",
    "        model = AdaBoost_Home\n",
    "    elif model == 'DecisionTree':\n",
    "        model = DecisionTree_Home\n",
    "    elif model == 'GaussianNB':\n",
    "        model = GaussianNB_Home\n",
    "    elif model == 'KNeighbours':\n",
    "        model = KNeighbors_Home\n",
    "    elif model == 'LogisticRegression':\n",
    "        model = LogisticRegression_Home\n",
    "    elif model == 'RandomForest':\n",
    "        model = RandomForest_Home\n",
    "    elif model == 'SVC':\n",
    "        model = SVC_Home\n",
    "    elif model == 'XGBClassifier':\n",
    "        model = XGBClassifier_Home\n",
    "    pred_y = model.predict(X)\n",
    "    accuracy.append(accuracy_score(y1, pred_y))"
   ]
  },
  {
   "cell_type": "code",
   "execution_count": 10,
   "metadata": {},
   "outputs": [
    {
     "data": {
      "image/png": "[encoded data removed]",
      "text/plain": [
       "<Figure size 1080x576 with 1 Axes>"
      ]
     },
     "metadata": {
      "needs_background": "light"
     },
     "output_type": "display_data"
    }
   ],
   "source": [
    "plt.figure(figsize=(15, 8))\n",
    "plt.bar(models, accuracy)\n",
    "sns.barplot(x=models, y=accuracy)\n",
    "plt.title('Accuracy of each model (Home Team)')\n",
    "plt.xlabel('Models')\n",
    "plt.ylabel('Accuracy')\n",
    "plt.show()"
   ]
  },
  {
   "cell_type": "code",
   "execution_count": 11,
   "metadata": {},
   "outputs": [],
   "source": [
    "y_actual_y_pred = []\n",
    "\n",
    "for model in models:\n",
    "    if model == 'AdaBoost':\n",
    "        model = AdaBoost_Home\n",
    "    elif model == 'DecisionTree':\n",
    "        model = DecisionTree_Home\n",
    "    elif model == 'GaussianNB':\n",
    "        model = GaussianNB_Home\n",
    "    elif model == 'KNeighbours':\n",
    "        model = KNeighbors_Home\n",
    "    elif model == 'LogisticRegression':\n",
    "        model = LogisticRegression_Home\n",
    "    elif model == 'RandomForest':\n",
    "        model = RandomForest_Home\n",
    "    elif model == 'SVC':\n",
    "        model = SVC_Home\n",
    "    elif model == 'XGBClassifier':\n",
    "        model = XGBClassifier_Home\n",
    "    pred_y = model.predict(X)\n",
    "    count = 0\n",
    "    for i in range(len(pred_y)):\n",
    "        if pred_y[i] == y1[i]:\n",
    "            count += 1\n",
    "    y_actual_y_pred.append(count)\n",
    "    "
   ]
  },
  {
   "cell_type": "code",
   "execution_count": 12,
   "metadata": {},
   "outputs": [
    {
     "data": {
      "image/png": "[encoded data removed]",
      "text/plain": [
       "<Figure size 1080x576 with 1 Axes>"
      ]
     },
     "metadata": {
      "needs_background": "light"
     },
     "output_type": "display_data"
    }
   ],
   "source": [
    "plt.figure(figsize=(15, 8))\n",
    "sns.barplot(x=models, y=y_actual_y_pred)\n",
    "plt.title('y_pred == y_actual (Home Team)')\n",
    "plt.xlabel('Models')\n",
    "plt.ylabel('Count')\n",
    "plt.show()"
   ]
  },
  {
   "cell_type": "code",
   "execution_count": null,
   "metadata": {},
   "outputs": [],
   "source": []
  },
  {
   "cell_type": "markdown",
   "metadata": {},
   "source": [
    "## Away Team Goal"
   ]
  },
  {
   "cell_type": "code",
   "execution_count": 13,
   "metadata": {},
   "outputs": [],
   "source": [
    "AdaBoost_Away = pickle.load(open('AdaBoost_Away.pkl', 'rb'))\n",
    "DecisionTree_Away = pickle.load(open('DecisionTree_Away.pkl', 'rb'))\n",
    "GaussianNB_Away = pickle.load(open('GaussianNB_Away.pkl', 'rb'))\n",
    "KNeighbors_Away = pickle.load(open('KNeighbors_Away.pkl', 'rb'))\n",
    "LogisticRegression_Away = pickle.load(open('LogisticRegression_Away.pkl', 'rb'))\n",
    "RandomForest_Away = pickle.load(open('RandomForest_Away.pkl', 'rb'))\n",
    "SVC_Away = pickle.load(open('SVC_Away.pkl', 'rb'))\n",
    "XGBClassifier_Away = pickle.load(open('XGBClassifier_Away.pkl', 'rb'))"
   ]
  },
  {
   "cell_type": "code",
   "execution_count": 14,
   "metadata": {},
   "outputs": [],
   "source": [
    "models = ['AdaBoost', 'DecisionTree', 'GaussianNB', 'KNeighbours', 'LogisticRegression', 'RandomForest', 'SVC', 'XGBClassifier']\n",
    "f1_scores = []\n",
    "for model in models:\n",
    "    if model == 'AdaBoost':\n",
    "        model = AdaBoost_Away\n",
    "    elif model == 'DecisionTree':\n",
    "        model = DecisionTree_Away\n",
    "    elif model == 'GaussianNB':\n",
    "        model = GaussianNB_Away\n",
    "    elif model == 'KNeighbours':\n",
    "        model = KNeighbors_Away\n",
    "    elif model == 'LogisticRegression':\n",
    "        model = LogisticRegression_Away\n",
    "    elif model == 'RandomForest':\n",
    "        model = RandomForest_Away\n",
    "    elif model == 'SVC':\n",
    "        model = SVC_Away\n",
    "    elif model == 'XGBClassifier':\n",
    "        model = XGBClassifier_Away\n",
    "    y_pred = model.predict(X)\n",
    "    f1_scores.append(f1_score(y2, y_pred, average='weighted'))"
   ]
  },
  {
   "cell_type": "code",
   "execution_count": 15,
   "metadata": {},
   "outputs": [
    {
     "data": {
      "image/png": "[encoded data removed]",
      "text/plain": [
       "<Figure size 1080x576 with 1 Axes>"
      ]
     },
     "metadata": {
      "needs_background": "light"
     },
     "output_type": "display_data"
    }
   ],
   "source": [
    "plt.figure(figsize=(15, 8))\n",
    "plt.bar(models, f1_scores)\n",
    "sns.barplot(x=models, y=f1_scores)\n",
    "plt.title('F1 Score of each model (Away Team)')\n",
    "plt.xlabel('Models')\n",
    "plt.ylabel('F1 Score')\n",
    "plt.show()"
   ]
  },
  {
   "cell_type": "code",
   "execution_count": 16,
   "metadata": {},
   "outputs": [],
   "source": [
    "accuracy = []\n",
    "for model in models:\n",
    "    if model == 'AdaBoost':\n",
    "        model = AdaBoost_Away\n",
    "    elif model == 'DecisionTree':\n",
    "        model = DecisionTree_Away\n",
    "    elif model == 'GaussianNB':\n",
    "        model = GaussianNB_Away\n",
    "    elif model == 'KNeighbours':\n",
    "        model = KNeighbors_Away\n",
    "    elif model == 'LogisticRegression':\n",
    "        model = LogisticRegression_Away\n",
    "    elif model == 'RandomForest':\n",
    "        model = RandomForest_Away\n",
    "    elif model == 'SVC':\n",
    "        model = SVC_Away\n",
    "    elif model == 'XGBClassifier':\n",
    "        model = XGBClassifier_Away\n",
    "    pred_y = model.predict(X)\n",
    "    accuracy.append(accuracy_score(y2, pred_y))"
   ]
  },
  {
   "cell_type": "code",
   "execution_count": 17,
   "metadata": {},
   "outputs": [
    {
     "data": {
      "image/png": "[encoded data removed]",
      "text/plain": [
       "<Figure size 1080x576 with 1 Axes>"
      ]
     },
     "metadata": {
      "needs_background": "light"
     },
     "output_type": "display_data"
    }
   ],
   "source": [
    "plt.figure(figsize=(15, 8))\n",
    "plt.bar(models, accuracy)\n",
    "sns.barplot(x=models, y=accuracy)\n",
    "plt.title('Accuracy of each model (Away Team)')\n",
    "plt.xlabel('Models')\n",
    "plt.ylabel('Accuracy')\n",
    "plt.show()"
   ]
  },
  {
   "cell_type": "code",
   "execution_count": 18,
   "metadata": {},
   "outputs": [],
   "source": [
    "y_actual_y_pred = []\n",
    "\n",
    "for model in models:\n",
    "    if model == 'AdaBoost':\n",
    "        model = AdaBoost_Away\n",
    "    elif model == 'DecisionTree':\n",
    "        model = DecisionTree_Away\n",
    "    elif model == 'GaussianNB':\n",
    "        model = GaussianNB_Away\n",
    "    elif model == 'KNeighbours':\n",
    "        model = KNeighbors_Away\n",
    "    elif model == 'LogisticRegression':\n",
    "        model = LogisticRegression_Away\n",
    "    elif model == 'RandomForest':\n",
    "        model = RandomForest_Away\n",
    "    elif model == 'SVC':\n",
    "        model = SVC_Away\n",
    "    elif model == 'XGBClassifier':\n",
    "        model = XGBClassifier_Away\n",
    "    pred_y = model.predict(X)\n",
    "    count = 0\n",
    "    for i in range(len(pred_y)):\n",
    "        if pred_y[i] == y2[i]:\n",
    "            count += 1\n",
    "    y_actual_y_pred.append(count)\n",
    "    "
   ]
  },
  {
   "cell_type": "code",
   "execution_count": 19,
   "metadata": {},
   "outputs": [
    {
     "data": {
      "image/png": "[encoded data removed]",
      "text/plain": [
       "<Figure size 1080x576 with 1 Axes>"
      ]
     },
     "metadata": {
      "needs_background": "light"
     },
     "output_type": "display_data"
    }
   ],
   "source": [
    "plt.figure(figsize=(15, 8))\n",
    "sns.barplot(x=models, y=y_actual_y_pred)\n",
    "plt.title('y_pred == y_actual (Away Team)')\n",
    "plt.xlabel('Models')\n",
    "plt.ylabel('Count')\n",
    "plt.show()"
   ]
  },
  {
   "cell_type": "code",
   "execution_count": null,
   "metadata": {},
   "outputs": [],
   "source": []
  }
 ],
 "metadata": {
  "kernelspec": {
   "display_name": "Python 3.10.4 64-bit",
   "language": "python",
   "name": "python3"
  },
  "language_info": {
   "codemirror_mode": {
    "name": "ipython",
    "version": 3
   },
   "file_extension": ".py",
   "mimetype": "text/x-python",
   "name": "python",
   "nbconvert_exporter": "python",
   "pygments_lexer": "ipython3",
   "version": "3.10.4"
  },
  "orig_nbformat": 4,
  "vscode": {
   "interpreter": {
    "hash": "67f1a58412a5992903d8a569a5baa1f1514123756be715fd660b0e3603a8940d"
   }
  }
 },
 "nbformat": 4,
 "nbformat_minor": 2
}
